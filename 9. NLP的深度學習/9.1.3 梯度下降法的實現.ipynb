{
 "cells": [
  {
   "cell_type": "markdown",
   "metadata": {},
   "source": [
    "#### 載入資料檔案並轉矩陣"
   ]
  },
  {
   "cell_type": "code",
   "execution_count": 25,
   "metadata": {
    "collapsed": true
   },
   "outputs": [],
   "source": [
    "def file2matrix(path, delimiter):\n",
    "    recordList = []\n",
    "    fp = open(path, 'r')\n",
    "    content = fp.read()\n",
    "    fp.close()\n",
    "    rowlist = content.splitlines()\n",
    "    recordlist = [list(map(eval, row.split(delimiter))) for row in rowlist if row.strip()]\n",
    "    return mat(recordlist)"
   ]
  },
  {
   "cell_type": "markdown",
   "metadata": {},
   "source": [
    "#### 繪製分類點"
   ]
  },
  {
   "cell_type": "code",
   "execution_count": 38,
   "metadata": {},
   "outputs": [],
   "source": [
    "def drawScatterbyLabel(plt, Input):\n",
    "    m,n = shape(Input)\n",
    "    target = Input[:, -1]\n",
    "    for i in range(m):\n",
    "        if target[i] == 0:\n",
    "            plt.scatter(Input[i,0],Input[i,1],c='blue',marker='o')\n",
    "        else:\n",
    "            plt.scatter(Input[i,0],Input[i,1],c='red',marker='s')"
   ]
  },
  {
   "cell_type": "markdown",
   "metadata": {},
   "source": [
    "#### 建置B+X矩陣, 預設B為全1的列向量"
   ]
  },
  {
   "cell_type": "code",
   "execution_count": 20,
   "metadata": {
    "collapsed": true
   },
   "outputs": [],
   "source": [
    "def buildMat(dataSet):\n",
    "    m,n = shape(dataSet)\n",
    "    dataMat = zeros((m,n))\n",
    "    dataMat[:,0] = 1\n",
    "    dataMat[:,1:] = dataSet[:,:-1]\n",
    "    return dataMat"
   ]
  },
  {
   "cell_type": "markdown",
   "metadata": {},
   "source": [
    "#### Logistic函數如下"
   ]
  },
  {
   "cell_type": "code",
   "execution_count": 5,
   "metadata": {
    "collapsed": true
   },
   "outputs": [],
   "source": [
    "def logistic(wTx):\n",
    "    return 1.0/(1.0+exp(-wTx))"
   ]
  },
  {
   "cell_type": "markdown",
   "metadata": {},
   "source": [
    "#### 主程式"
   ]
  },
  {
   "cell_type": "code",
   "execution_count": 7,
   "metadata": {},
   "outputs": [],
   "source": [
    "# -*- coding: utf-8 -*-\n",
    "import os, sys\n",
    "import numpy as np\n",
    "from numpy import *\n",
    "import matplotlib.pyplot as plt"
   ]
  },
  {
   "cell_type": "code",
   "execution_count": 26,
   "metadata": {},
   "outputs": [
    {
     "name": "stdout",
     "output_type": "stream",
     "text": [
      "UTF-8\n"
     ]
    }
   ],
   "source": [
    "#reload(sys)\n",
    "import sys\n",
    "#sys.setdefaultencoding('utf-8')\n",
    "print(sys.stdout.encoding)\n",
    "Input = file2matrix(\"testSet.txt\",\"\\t\")"
   ]
  },
  {
   "cell_type": "code",
   "execution_count": 28,
   "metadata": {},
   "outputs": [],
   "source": [
    "labels = Input[:,-1]\n",
    "[m,n] = shape(Input)\n",
    "dataMat = buildMat(Input)"
   ]
  },
  {
   "cell_type": "code",
   "execution_count": 31,
   "metadata": {},
   "outputs": [
    {
     "name": "stdout",
     "output_type": "stream",
     "text": [
      "[[  1.        -0.017612 -14.053064]\n",
      " [  1.        -1.395634  -4.662541]\n",
      " [  1.        -0.752157  -6.53862 ]\n",
      " [  1.        -1.322371  -7.152853]\n",
      " [  1.         0.423363 -11.054677]]\n"
     ]
    }
   ],
   "source": [
    "print(dataMat[:5])"
   ]
  },
  {
   "cell_type": "code",
   "execution_count": 32,
   "metadata": {
    "collapsed": true
   },
   "outputs": [],
   "source": [
    "alpha = 0.001\n",
    "steps = 500\n",
    "weights = ones((n,1))\n",
    "errorlist = []"
   ]
  },
  {
   "cell_type": "code",
   "execution_count": 36,
   "metadata": {},
   "outputs": [
    {
     "name": "stdout",
     "output_type": "stream",
     "text": [
      "[[ 4.17881308]\n",
      " [ 0.50489874]\n",
      " [ 0.61980264]]\n"
     ]
    }
   ],
   "source": [
    "for k in range(steps):\n",
    "    net = dataMat*mat(weights)\n",
    "    output = logistic(net)\n",
    "    loss = output - labels\n",
    "    error = 0.5*sum(multiply(loss,loss))\n",
    "    errorlist.append(error)\n",
    "    grad = dataMat.T*loss\n",
    "    weights = weights - alpha*grad\n",
    "print(weights)"
   ]
  },
  {
   "cell_type": "code",
   "execution_count": 40,
   "metadata": {},
   "outputs": [
    {
     "data": {
      "image/png": "[encoded data removed]",
      "text/plain": [
       "<matplotlib.figure.Figure at 0x182ff541198>"
      ]
     },
     "metadata": {},
     "output_type": "display_data"
    }
   ],
   "source": [
    "drawScatterbyLabel(plt,Input)\n",
    "X = np.linspace(-5,5,100)\n",
    "Y = -(double(weights[0])+X*(double(weights[1])))/double(weights[2])\n",
    "plt.plot(X,Y)\n",
    "plt.show()"
   ]
  },
  {
   "cell_type": "code",
   "execution_count": null,
   "metadata": {
    "collapsed": true
   },
   "outputs": [],
   "source": []
  }
 ],
 "metadata": {
  "kernelspec": {
   "display_name": "Python 3",
   "language": "python",
   "name": "python3"
  },
  "language_info": {
   "codemirror_mode": {
    "name": "ipython",
    "version": 3
   },
   "file_extension": ".py",
   "mimetype": "text/x-python",
   "name": "python",
   "nbconvert_exporter": "python",
   "pygments_lexer": "ipython3",
   "version": "3.5.3"
  }
 },
 "nbformat": 4,
 "nbformat_minor": 2
}
